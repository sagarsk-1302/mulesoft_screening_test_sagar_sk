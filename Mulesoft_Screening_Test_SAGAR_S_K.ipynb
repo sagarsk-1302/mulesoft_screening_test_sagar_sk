{
  "nbformat": 4,
  "nbformat_minor": 0,
  "metadata": {
    "colab": {
      "name": "Mulesoft_Screening_Test_SAGAR S K",
      "provenance": []
    },
    "kernelspec": {
      "name": "python3",
      "display_name": "Python 3"
    },
    "language_info": {
      "name": "python"
    }
  },
  "cells": [
    {
      "cell_type": "markdown",
      "metadata": {
        "id": "UugBzFNWfm6T"
      },
      "source": [
        "Importing sqlite3 module"
      ]
    },
    {
      "cell_type": "code",
      "metadata": {
        "id": "UxOkgyL4ffGh"
      },
      "source": [
        "import sqlite3 as sq"
      ],
      "execution_count": 8,
      "outputs": []
    },
    {
      "cell_type": "markdown",
      "metadata": {
        "id": "RX0wiD6ffuLp"
      },
      "source": [
        "Establishing connection with the database"
      ]
    },
    {
      "cell_type": "code",
      "metadata": {
        "id": "UxHU3LMEfy5x"
      },
      "source": [
        "connection = sq.connect(\"Movies_DB.db\")"
      ],
      "execution_count": 9,
      "outputs": []
    },
    {
      "cell_type": "markdown",
      "metadata": {
        "id": "s4A9kpYVgAzv"
      },
      "source": [
        "Creating a cursor to handle the queries for the database"
      ]
    },
    {
      "cell_type": "code",
      "metadata": {
        "id": "07axwauxgIbI"
      },
      "source": [
        "cursor = connection.cursor()"
      ],
      "execution_count": 10,
      "outputs": []
    },
    {
      "cell_type": "markdown",
      "metadata": {
        "id": "xM1Bsdd5gOOg"
      },
      "source": [
        "Creating a table "
      ]
    },
    {
      "cell_type": "code",
      "metadata": {
        "colab": {
          "base_uri": "https://localhost:8080/"
        },
        "id": "XaYvnngSgezC",
        "outputId": "083f4848-2057-4684-d0e5-aecef897f685"
      },
      "source": [
        "cursor.execute(\"CREATE TABLE IF NOT EXISTS MOVIES( NAME TEXT, ACTOR TEXT, ACTRESS TEXT,DIRECTOR_NAME TEXT, YEAR INTEGER )\")"
      ],
      "execution_count": 11,
      "outputs": [
        {
          "output_type": "execute_result",
          "data": {
            "text/plain": [
              "<sqlite3.Cursor at 0x7f511fd41b20>"
            ]
          },
          "metadata": {},
          "execution_count": 11
        }
      ]
    },
    {
      "cell_type": "markdown",
      "metadata": {
        "id": "QmWtUqI6iJxo"
      },
      "source": [
        "Inserting data to the table"
      ]
    },
    {
      "cell_type": "code",
      "metadata": {
        "colab": {
          "base_uri": "https://localhost:8080/"
        },
        "id": "CPvXtD1qiO2-",
        "outputId": "609922ab-34ef-49fd-90b8-2efe7a9982d0"
      },
      "source": [
        "cursor.execute(\"INSERT INTO MOVIES VALUES('Doctor Strange','Benedict Cumberbatch','Rachel McAdams','Scott Derrickson',2016)\")\n",
        "cursor.execute(\"INSERT INTO MOVIES VALUES('The Courier','Benedict Cumberbatch','Rachel Brosnahan','Dominic Cooke',2020)\")\n",
        "cursor.execute(\"INSERT INTO MOVIES VALUES('Tenet','John David Washington','Elizabeth Debicki','Christopher Nolan',2020)\")\n",
        "cursor.execute(\"INSERT INTO MOVIES VALUES('3 Idiots','Aamir Khan','Kareena Kapoor','Rajkumar Hirani',2009)\")\n",
        "cursor.execute(\"INSERT INTO MOVIES VALUES('PK','Aamir Khan','Anushka Sharma','Rajkumar Hirani',2014)\")"
      ],
      "execution_count": 12,
      "outputs": [
        {
          "output_type": "execute_result",
          "data": {
            "text/plain": [
              "<sqlite3.Cursor at 0x7f511fd41b20>"
            ]
          },
          "metadata": {},
          "execution_count": 12
        }
      ]
    },
    {
      "cell_type": "markdown",
      "metadata": {
        "id": "TL8WuinIq1Pf"
      },
      "source": [
        "Querying all the movies in the table"
      ]
    },
    {
      "cell_type": "code",
      "metadata": {
        "colab": {
          "base_uri": "https://localhost:8080/"
        },
        "id": "zzNWM_kCrCPN",
        "outputId": "0337d122-acd4-4911-8359-9fca35957f45"
      },
      "source": [
        "all_rows = cursor.execute(\"SELECT * FROM MOVIES\").fetchall()\n",
        "for i in all_rows:\n",
        "  title,actor,actress,director,released_year = i\n",
        "  print(f\"{title}\\t{actor}\\t{actress}\\t{director}\\t{released_year}\")"
      ],
      "execution_count": 13,
      "outputs": [
        {
          "output_type": "stream",
          "name": "stdout",
          "text": [
            "Doctor Strange\tBenedict Cumberbatch\tRachel McAdams\tScott Derrickson\t2016\n",
            "The Courier\tBenedict Cumberbatch\tRachel Brosnahan\tDominic Cooke\t2020\n",
            "Tenet\tJohn David Washington\tElizabeth Debicki\tChristopher Nolan\t2020\n",
            "3 Idiots\tAamir Khan\tKareena Kapoor\tRajkumar Hirani\t2009\n",
            "PK\tAamir Khan\tAnushka Sharma\tRajkumar Hirani\t2014\n"
          ]
        }
      ]
    },
    {
      "cell_type": "markdown",
      "metadata": {
        "id": "_Ts3UlLfsFFd"
      },
      "source": [
        "Querying based on the actor's name"
      ]
    },
    {
      "cell_type": "code",
      "metadata": {
        "colab": {
          "base_uri": "https://localhost:8080/"
        },
        "id": "XPNItcbqsIqo",
        "outputId": "976282e9-32a1-4cac-f17e-be65fc3a4791"
      },
      "source": [
        "actor_rows = cursor.execute(\"SELECT * FROM MOVIES WHERE ACTOR = 'Benedict Cumberbatch'\").fetchall()\n",
        "for i in actor_rows:\n",
        "  title,actor,actress,director,released_year = i\n",
        "  print(f\"{title}\\t{actor}\\t{actress}\\t{director}\\t{released_year}\")"
      ],
      "execution_count": 15,
      "outputs": [
        {
          "output_type": "stream",
          "name": "stdout",
          "text": [
            "Doctor Strange\tBenedict Cumberbatch\tRachel McAdams\tScott Derrickson\t2016\n",
            "The Courier\tBenedict Cumberbatch\tRachel Brosnahan\tDominic Cooke\t2020\n"
          ]
        }
      ]
    }
  ]
}